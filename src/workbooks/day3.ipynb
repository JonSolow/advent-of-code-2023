{
 "cells": [
  {
   "cell_type": "markdown",
   "metadata": {},
   "source": [
    "--- Day 3: Gear Ratios ---\n",
    "You and the Elf eventually reach a gondola lift station; he says the gondola lift will take you up to the water source, but this is as far as he can bring you. You go inside.\n",
    "\n",
    "It doesn't take long to find the gondolas, but there seems to be a problem: they're not moving.\n",
    "\n",
    "\"Aaah!\"\n",
    "\n",
    "You turn around to see a slightly-greasy Elf with a wrench and a look of surprise. \"Sorry, I wasn't expecting anyone! The gondola lift isn't working right now; it'll still be a while before I can fix it.\" You offer to help.\n",
    "\n",
    "The engineer explains that an engine part seems to be missing from the engine, but nobody can figure out which one. If you can add up all the part numbers in the engine schematic, it should be easy to work out which part is missing.\n",
    "\n",
    "The engine schematic (your puzzle input) consists of a visual representation of the engine. There are lots of numbers and symbols you don't really understand, but apparently any number adjacent to a symbol, even diagonally, is a \"part number\" and should be included in your sum. (Periods (.) do not count as a symbol.)\n",
    "\n",
    "Here is an example engine schematic:\n",
    "\n",
    "467..114..\n",
    "...*......\n",
    "..35..633.\n",
    "......#...\n",
    "617*......\n",
    ".....+.58.\n",
    "..592.....\n",
    "......755.\n",
    "...$.*....\n",
    ".664.598..\n",
    "\n",
    "In this schematic, two numbers are not part numbers because they are not adjacent to a symbol: 114 (top right) and 58 (middle right). Every other number is adjacent to a symbol and so is a part number; their sum is 4361.\n",
    "\n",
    "Of course, the actual engine schematic is much larger. What is the sum of all of the part numbers in the engine schematic?"
   ]
  },
  {
   "cell_type": "code",
   "execution_count": 1,
   "metadata": {},
   "outputs": [],
   "source": [
    "example_schematic_str = \"\"\"\n",
    "467..114..\n",
    "...*......\n",
    "..35..633.\n",
    "......#...\n",
    "617*......\n",
    ".....+.58.\n",
    "..592.....\n",
    "......755.\n",
    "...$.*....\n",
    ".664.598..\n",
    "\"\"\""
   ]
  },
  {
   "cell_type": "code",
   "execution_count": 2,
   "metadata": {},
   "outputs": [],
   "source": [
    "import re\n",
    "\n",
    "\n",
    "\n",
    "def process_scheme_line(scheme_line_str: str) -> tuple[set[int], list[re.Match]]:\n",
    "    \"\"\"\n",
    "    Returns a tuple of list of Matches for symbols and list of Matches for numbers\n",
    "    \"\"\"\n",
    "    special_matches = set()\n",
    "    for char_idx, char_val in enumerate(scheme_line_str):\n",
    "        if not (char_val.isnumeric() or char_val == \".\"):\n",
    "            special_matches.add(char_idx)\n",
    "    \n",
    "    special_matches_plus_adjacent = set()\n",
    "    for smi in special_matches:\n",
    "        min_trunc = max(0, smi - 1)\n",
    "        max_trunc = min(len(scheme_line_str) - 1, smi + 1)\n",
    "        special_matches_plus_adjacent = special_matches_plus_adjacent.union({min_trunc, smi, max_trunc})\n",
    "    digits_matches = list(re.finditer(r\"(\\d+)\", scheme_line_str))\n",
    "    return special_matches_plus_adjacent, digits_matches\n",
    "\n",
    "\n",
    "def find_digits_adjacent_from_trio_lines(line_trio: list[tuple[set[int], list[re.Match]]]):\n",
    "    indices_included = set()\n",
    "    output_sum = 0\n",
    "    for special_indices, _ in line_trio:\n",
    "        indices_included = indices_included.union(special_indices)\n",
    "\n",
    "    for digit_matches in line_trio[1][1]:\n",
    "        if set(range(*digit_matches.span())).intersection(set(indices_included)):\n",
    "            output_sum += int(digit_matches.group(1))\n",
    "    return output_sum\n",
    "\n",
    "\n",
    "\n",
    "def process_engine_scheme_string(scheme_str: str) -> int:\n",
    "    scheme_lines_list = scheme_str.strip().split(\"\\n\")\n",
    "    total_sum = 0\n",
    "    process_line_trio = [\n",
    "        process_scheme_line(\"\"),\n",
    "        process_scheme_line(scheme_lines_list[0]),\n",
    "        process_scheme_line(scheme_lines_list[1]),\n",
    "    ]\n",
    "    total_sum += find_digits_adjacent_from_trio_lines(process_line_trio)\n",
    "    for scheme_line in scheme_lines_list[2:]:\n",
    "        process_line_trio.pop(0)\n",
    "        process_line_trio.append(process_scheme_line(scheme_line))\n",
    "        total_sum += find_digits_adjacent_from_trio_lines(process_line_trio)\n",
    "\n",
    "    # process last line\n",
    "    process_line_trio.pop(0)\n",
    "    process_line_trio.append(process_scheme_line(\"\"))\n",
    "    total_sum += find_digits_adjacent_from_trio_lines(process_line_trio)\n",
    "\n",
    "    return total_sum\n",
    "\n",
    "\n"
   ]
  },
  {
   "cell_type": "code",
   "execution_count": 3,
   "metadata": {},
   "outputs": [],
   "source": [
    "assert process_engine_scheme_string(example_schematic_str) == 4361"
   ]
  },
  {
   "cell_type": "code",
   "execution_count": 4,
   "metadata": {},
   "outputs": [],
   "source": [
    "with open(\"../inputs/day3_input.txt\") as f:\n",
    "    input_str = f.read()\n"
   ]
  },
  {
   "cell_type": "code",
   "execution_count": 5,
   "metadata": {},
   "outputs": [
    {
     "data": {
      "text/plain": [
       "512794"
      ]
     },
     "execution_count": 5,
     "metadata": {},
     "output_type": "execute_result"
    }
   ],
   "source": [
    "process_engine_scheme_string(input_str)"
   ]
  },
  {
   "cell_type": "code",
   "execution_count": null,
   "metadata": {},
   "outputs": [],
   "source": []
  }
 ],
 "metadata": {
  "kernelspec": {
   "display_name": "Python 3",
   "language": "python",
   "name": "python3"
  },
  "language_info": {
   "codemirror_mode": {
    "name": "ipython",
    "version": 3
   },
   "file_extension": ".py",
   "mimetype": "text/x-python",
   "name": "python",
   "nbconvert_exporter": "python",
   "pygments_lexer": "ipython3",
   "version": "3.12.0"
  }
 },
 "nbformat": 4,
 "nbformat_minor": 2
}
