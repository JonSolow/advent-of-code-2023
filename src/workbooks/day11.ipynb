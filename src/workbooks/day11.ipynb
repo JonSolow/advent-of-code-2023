{
 "cells": [
  {
   "cell_type": "markdown",
   "metadata": {},
   "source": [
    "--- Day 11: Cosmic Expansion ---\n",
    "You continue following signs for \"Hot Springs\" and eventually come across an observatory. The Elf within turns out to be a researcher studying cosmic expansion using the giant telescope here.\n",
    "\n",
    "He doesn't know anything about the missing machine parts; he's only visiting for this research project. However, he confirms that the hot springs are the next-closest area likely to have people; he'll even take you straight there once he's done with today's observation analysis.\n",
    "\n",
    "Maybe you can help him with the analysis to speed things up?\n",
    "\n",
    "The researcher has collected a bunch of data and compiled the data into a single giant image (your puzzle input). The image includes empty space (.) and galaxies (#). For example:\n",
    "\n",
    "...#......\n",
    ".......#..\n",
    "#.........\n",
    "..........\n",
    "......#...\n",
    ".#........\n",
    ".........#\n",
    "..........\n",
    ".......#..\n",
    "#...#.....\n",
    "The researcher is trying to figure out the sum of the lengths of the shortest path between every pair of galaxies. However, there's a catch: the universe expanded in the time it took the light from those galaxies to reach the observatory.\n",
    "\n",
    "Due to something involving gravitational effects, only some space expands. In fact, the result is that any rows or columns that contain no galaxies should all actually be twice as big.\n",
    "\n",
    "In the above example, three columns and two rows contain no galaxies:\n",
    "\n",
    "   v  v  v\n",
    " ...#......\n",
    " .......#..\n",
    " #.........\n",
    ">..........<\n",
    " ......#...\n",
    " .#........\n",
    " .........#\n",
    ">..........<\n",
    " .......#..\n",
    " #...#.....\n",
    "   ^  ^  ^\n",
    "These rows and columns need to be twice as big; the result of cosmic expansion therefore looks like this:\n",
    "\n",
    "....#........\n",
    ".........#...\n",
    "#............\n",
    ".............\n",
    ".............\n",
    "........#....\n",
    ".#...........\n",
    "............#\n",
    ".............\n",
    ".............\n",
    ".........#...\n",
    "#....#.......\n",
    "Equipped with this expanded universe, the shortest path between every pair of galaxies can be found. It can help to assign every galaxy a unique number:\n",
    "\n",
    "....1........\n",
    ".........2...\n",
    "3............\n",
    ".............\n",
    ".............\n",
    "........4....\n",
    ".5...........\n",
    "............6\n",
    ".............\n",
    ".............\n",
    ".........7...\n",
    "8....9.......\n",
    "In these 9 galaxies, there are 36 pairs. Only count each pair once; order within the pair doesn't matter. For each pair, find any shortest path between the two galaxies using only steps that move up, down, left, or right exactly one . or # at a time. (The shortest path between two galaxies is allowed to pass through another galaxy.)\n",
    "\n",
    "For example, here is one of the shortest paths between galaxies 5 and 9:\n",
    "\n",
    "....1........\n",
    ".........2...\n",
    "3............\n",
    ".............\n",
    ".............\n",
    "........4....\n",
    ".5...........\n",
    ".##.........6\n",
    "..##.........\n",
    "...##........\n",
    "....##...7...\n",
    "8....9.......\n",
    "This path has length 9 because it takes a minimum of nine steps to get from galaxy 5 to galaxy 9 (the eight locations marked # plus the step onto galaxy 9 itself). Here are some other example shortest path lengths:\n",
    "\n",
    "Between galaxy 1 and galaxy 7: 15\n",
    "Between galaxy 3 and galaxy 6: 17\n",
    "Between galaxy 8 and galaxy 9: 5\n",
    "In this example, after expanding the universe, the sum of the shortest path between all 36 pairs of galaxies is 374.\n",
    "\n",
    "Expand the universe, then find the length of the shortest path between every pair of galaxies. What is the sum of these lengths?"
   ]
  },
  {
   "cell_type": "code",
   "execution_count": 1,
   "metadata": {},
   "outputs": [],
   "source": [
    "from dataclasses import dataclass\n",
    "from __future__ import annotations\n",
    "\n",
    "import numpy as np\n",
    "from tqdm import tqdm\n",
    "\n",
    "\n",
    "@dataclass\n",
    "class GalaxyMap:\n",
    "    galaxy_input_array: np.ndarray\n",
    "    galaxy_expansion_factor: int\n",
    "\n",
    "\n",
    "    @classmethod\n",
    "    def from_str(cls, input_str: str, galaxy_expansion_factor: int = 2) -> GalaxyMap:\n",
    "        map_list_of_rows = input_str.strip().split(\"\\n\")\n",
    "        n_rows_input = len(map_list_of_rows)\n",
    "        n_columns_input = len(map_list_of_rows[0])\n",
    "        galaxy_input_array = np.zeros(shape=(n_rows_input, n_columns_input))\n",
    "        for row_i, map_row in enumerate(map_list_of_rows):\n",
    "            for col_i, map_char in enumerate(map_row):\n",
    "                if map_char==\"#\":\n",
    "                    galaxy_input_array[row_i, col_i] = 1\n",
    "\n",
    "        return cls(\n",
    "            galaxy_input_array=galaxy_input_array,\n",
    "            galaxy_expansion_factor=galaxy_expansion_factor\n",
    "            )\n",
    "\n",
    "\n",
    "\n",
    "    @property\n",
    "    def galaxy_indices(self) -> np.ndarray:\n",
    "        is_row_empty = (self.galaxy_input_array.sum(axis=1) == 0) * (self.galaxy_expansion_factor - 1)\n",
    "        is_col_empty = (self.galaxy_input_array.sum(axis=0) == 0) * (self.galaxy_expansion_factor - 1)\n",
    "\n",
    "        cum_rows_empty = is_row_empty.cumsum()\n",
    "        cum_cols_empty = is_col_empty.cumsum()\n",
    "\n",
    "        galaxy_indices = []\n",
    "\n",
    "        for (input_row_i, input_col_i) in np.argwhere(self.galaxy_input_array):\n",
    "            adj_row_i = input_row_i + cum_rows_empty[input_row_i]\n",
    "            adj_col_i = input_col_i + cum_cols_empty[input_col_i]\n",
    "            galaxy_indices.append([adj_row_i, adj_col_i])\n",
    "\n",
    "        return np.array(galaxy_indices)\n",
    "\n",
    "\n",
    "    @property\n",
    "    def sum_of_galaxy_pair_distances(self) -> int:\n",
    "        running_sum = 0\n",
    "\n",
    "        n_galaxy = len(self.galaxy_indices)\n",
    "        for i in tqdm(range(n_galaxy)):\n",
    "            other_points = self.galaxy_indices[i+1:]\n",
    "            repeated_current_point = np.tile(self.galaxy_indices[i], (other_points.shape[0], 1))\n",
    "            distances = np.absolute(repeated_current_point - other_points)\n",
    "            running_sum += np.sum(distances)\n",
    "        return running_sum\n"
   ]
  },
  {
   "cell_type": "code",
   "execution_count": 2,
   "metadata": {},
   "outputs": [],
   "source": [
    "test_input = \"\"\"\n",
    "...#......\n",
    ".......#..\n",
    "#.........\n",
    "..........\n",
    "......#...\n",
    ".#........\n",
    ".........#\n",
    "..........\n",
    ".......#..\n",
    "#...#.....\n",
    "\"\"\"\n",
    "\n"
   ]
  },
  {
   "cell_type": "code",
   "execution_count": 3,
   "metadata": {},
   "outputs": [],
   "source": [
    "test_map = GalaxyMap.from_str(test_input)"
   ]
  },
  {
   "cell_type": "code",
   "execution_count": 4,
   "metadata": {},
   "outputs": [
    {
     "data": {
      "text/plain": [
       "GalaxyMap(galaxy_input_array=array([[0., 0., 0., 1., 0., 0., 0., 0., 0., 0.],\n",
       "       [0., 0., 0., 0., 0., 0., 0., 1., 0., 0.],\n",
       "       [1., 0., 0., 0., 0., 0., 0., 0., 0., 0.],\n",
       "       [0., 0., 0., 0., 0., 0., 0., 0., 0., 0.],\n",
       "       [0., 0., 0., 0., 0., 0., 1., 0., 0., 0.],\n",
       "       [0., 1., 0., 0., 0., 0., 0., 0., 0., 0.],\n",
       "       [0., 0., 0., 0., 0., 0., 0., 0., 0., 1.],\n",
       "       [0., 0., 0., 0., 0., 0., 0., 0., 0., 0.],\n",
       "       [0., 0., 0., 0., 0., 0., 0., 1., 0., 0.],\n",
       "       [1., 0., 0., 0., 1., 0., 0., 0., 0., 0.]]), galaxy_expansion_factor=2)"
      ]
     },
     "execution_count": 4,
     "metadata": {},
     "output_type": "execute_result"
    }
   ],
   "source": [
    "test_map"
   ]
  },
  {
   "cell_type": "code",
   "execution_count": 5,
   "metadata": {},
   "outputs": [
    {
     "data": {
      "text/plain": [
       "array([[ 0,  4],\n",
       "       [ 1,  9],\n",
       "       [ 2,  0],\n",
       "       [ 5,  8],\n",
       "       [ 6,  1],\n",
       "       [ 7, 12],\n",
       "       [10,  9],\n",
       "       [11,  0],\n",
       "       [11,  5]])"
      ]
     },
     "execution_count": 5,
     "metadata": {},
     "output_type": "execute_result"
    }
   ],
   "source": [
    "test_map.galaxy_indices"
   ]
  },
  {
   "cell_type": "code",
   "execution_count": 6,
   "metadata": {},
   "outputs": [
    {
     "name": "stderr",
     "output_type": "stream",
     "text": [
      "100%|██████████| 9/9 [00:00<00:00, 6418.76it/s]\n"
     ]
    }
   ],
   "source": [
    "assert test_map.sum_of_galaxy_pair_distances == 374"
   ]
  },
  {
   "cell_type": "code",
   "execution_count": 7,
   "metadata": {},
   "outputs": [],
   "source": [
    "with open(\"../inputs/day11_input.txt\") as f:\n",
    "    input_str = f.read()\n",
    "\n",
    "\n",
    "galaxy_map = GalaxyMap.from_str(input_str)"
   ]
  },
  {
   "cell_type": "code",
   "execution_count": 8,
   "metadata": {},
   "outputs": [
    {
     "name": "stderr",
     "output_type": "stream",
     "text": [
      "100%|██████████| 433/433 [00:00<00:00, 745.03it/s]\n"
     ]
    },
    {
     "data": {
      "text/plain": [
       "9556896"
      ]
     },
     "execution_count": 8,
     "metadata": {},
     "output_type": "execute_result"
    }
   ],
   "source": [
    "galaxy_map.sum_of_galaxy_pair_distances"
   ]
  },
  {
   "cell_type": "markdown",
   "metadata": {},
   "source": [
    "# Part 2"
   ]
  },
  {
   "cell_type": "markdown",
   "metadata": {},
   "source": [
    "--- Part Two ---\n",
    "The galaxies are much older (and thus much farther apart) than the researcher initially estimated.\n",
    "\n",
    "Now, instead of the expansion you did before, make each empty row or column one million times larger. That is, each empty row should be replaced with 1000000 empty rows, and each empty column should be replaced with 1000000 empty columns.\n",
    "\n",
    "(In the example above, if each empty row or column were merely 10 times larger, the sum of the shortest paths between every pair of galaxies would be 1030. If each empty row or column were merely 100 times larger, the sum of the shortest paths between every pair of galaxies would be 8410. However, your universe will need to expand far beyond these values.)\n",
    "\n",
    "Starting with the same initial image, expand the universe according to these new rules, then find the length of the shortest path between every pair of galaxies. What is the sum of these lengths?"
   ]
  },
  {
   "cell_type": "code",
   "execution_count": 9,
   "metadata": {},
   "outputs": [],
   "source": [
    "test_with_expansion_10 = GalaxyMap.from_str(test_input, galaxy_expansion_factor=10)\n",
    "test_with_expansion_100 = GalaxyMap.from_str(test_input, galaxy_expansion_factor=100)"
   ]
  },
  {
   "cell_type": "code",
   "execution_count": 10,
   "metadata": {},
   "outputs": [
    {
     "name": "stderr",
     "output_type": "stream",
     "text": [
      "100%|██████████| 9/9 [00:00<00:00, 6984.04it/s]\n",
      "100%|██████████| 9/9 [00:00<00:00, 7522.67it/s]\n"
     ]
    }
   ],
   "source": [
    "assert test_with_expansion_10.sum_of_galaxy_pair_distances == 1030\n",
    "assert test_with_expansion_100.sum_of_galaxy_pair_distances == 8410"
   ]
  },
  {
   "cell_type": "code",
   "execution_count": 11,
   "metadata": {},
   "outputs": [],
   "source": [
    "galaxy_million_expansion = GalaxyMap.from_str(input_str, galaxy_expansion_factor=1000000)"
   ]
  },
  {
   "cell_type": "code",
   "execution_count": 12,
   "metadata": {},
   "outputs": [
    {
     "name": "stderr",
     "output_type": "stream",
     "text": [
      "100%|██████████| 433/433 [00:00<00:00, 752.75it/s]\n"
     ]
    },
    {
     "data": {
      "text/plain": [
       "685038186836"
      ]
     },
     "execution_count": 12,
     "metadata": {},
     "output_type": "execute_result"
    }
   ],
   "source": [
    "galaxy_million_expansion.sum_of_galaxy_pair_distances"
   ]
  },
  {
   "cell_type": "code",
   "execution_count": null,
   "metadata": {},
   "outputs": [],
   "source": []
  }
 ],
 "metadata": {
  "kernelspec": {
   "display_name": "Python 3",
   "language": "python",
   "name": "python3"
  },
  "language_info": {
   "codemirror_mode": {
    "name": "ipython",
    "version": 3
   },
   "file_extension": ".py",
   "mimetype": "text/x-python",
   "name": "python",
   "nbconvert_exporter": "python",
   "pygments_lexer": "ipython3",
   "version": "3.12.1"
  }
 },
 "nbformat": 4,
 "nbformat_minor": 2
}
