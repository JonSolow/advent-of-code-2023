{
 "cells": [
  {
   "cell_type": "markdown",
   "metadata": {},
   "source": [
    "--- Day 7: Camel Cards ---\n",
    "Your all-expenses-paid trip turns out to be a one-way, five-minute ride in an airship. (At least it's a cool airship!) It drops you off at the edge of a vast desert and descends back to Island Island.\n",
    "\n",
    "\"Did you bring the parts?\"\n",
    "\n",
    "You turn around to see an Elf completely covered in white clothing, wearing goggles, and riding a large camel.\n",
    "\n",
    "\"Did you bring the parts?\" she asks again, louder this time. You aren't sure what parts she's looking for; you're here to figure out why the sand stopped.\n",
    "\n",
    "\"The parts! For the sand, yes! Come with me; I will show you.\" She beckons you onto the camel.\n",
    "\n",
    "After riding a bit across the sands of Desert Island, you can see what look like very large rocks covering half of the horizon. The Elf explains that the rocks are all along the part of Desert Island that is directly above Island Island, making it hard to even get there. Normally, they use big machines to move the rocks and filter the sand, but the machines have broken down because Desert Island recently stopped receiving the parts they need to fix the machines.\n",
    "\n",
    "You've already assumed it'll be your job to figure out why the parts stopped when she asks if you can help. You agree automatically.\n",
    "\n",
    "Because the journey will take a few days, she offers to teach you the game of Camel Cards. Camel Cards is sort of similar to poker except it's designed to be easier to play while riding a camel.\n",
    "\n",
    "In Camel Cards, you get a list of hands, and your goal is to order them based on the strength of each hand. A hand consists of five cards labeled one of A, K, Q, J, T, 9, 8, 7, 6, 5, 4, 3, or 2. The relative strength of each card follows this order, where A is the highest and 2 is the lowest.\n",
    "\n",
    "Every hand is exactly one type. From strongest to weakest, they are:\n",
    "\n",
    "Five of a kind, where all five cards have the same label: AAAAA\n",
    "Four of a kind, where four cards have the same label and one card has a different label: AA8AA\n",
    "Full house, where three cards have the same label, and the remaining two cards share a different label: 23332\n",
    "Three of a kind, where three cards have the same label, and the remaining two cards are each different from any other card in the hand: TTT98\n",
    "Two pair, where two cards share one label, two other cards share a second label, and the remaining card has a third label: 23432\n",
    "One pair, where two cards share one label, and the other three cards have a different label from the pair and each other: A23A4\n",
    "High card, where all cards' labels are distinct: 23456\n",
    "Hands are primarily ordered based on type; for example, every full house is stronger than any three of a kind.\n",
    "\n",
    "If two hands have the same type, a second ordering rule takes effect. Start by comparing the first card in each hand. If these cards are different, the hand with the stronger first card is considered stronger. If the first card in each hand have the same label, however, then move on to considering the second card in each hand. If they differ, the hand with the higher second card wins; otherwise, continue with the third card in each hand, then the fourth, then the fifth.\n",
    "\n",
    "So, 33332 and 2AAAA are both four of a kind hands, but 33332 is stronger because its first card is stronger. Similarly, 77888 and 77788 are both a full house, but 77888 is stronger because its third card is stronger (and both hands have the same first and second card).\n",
    "\n",
    "To play Camel Cards, you are given a list of hands and their corresponding bid (your puzzle input). For example:\n",
    "\n",
    "32T3K 765\n",
    "T55J5 684\n",
    "KK677 28\n",
    "KTJJT 220\n",
    "QQQJA 483\n",
    "This example shows five hands; each hand is followed by its bid amount. Each hand wins an amount equal to its bid multiplied by its rank, where the weakest hand gets rank 1, the second-weakest hand gets rank 2, and so on up to the strongest hand. Because there are five hands in this example, the strongest hand will have rank 5 and its bid will be multiplied by 5.\n",
    "\n",
    "So, the first step is to put the hands in order of strength:\n",
    "\n",
    "32T3K is the only one pair and the other hands are all a stronger type, so it gets rank 1.\n",
    "KK677 and KTJJT are both two pair. Their first cards both have the same label, but the second card of KK677 is stronger (K vs T), so KTJJT gets rank 2 and KK677 gets rank 3.\n",
    "T55J5 and QQQJA are both three of a kind. QQQJA has a stronger first card, so it gets rank 5 and T55J5 gets rank 4.\n",
    "Now, you can determine the total winnings of this set of hands by adding up the result of multiplying each hand's bid with its rank (765 * 1 + 220 * 2 + 28 * 3 + 684 * 4 + 483 * 5). So the total winnings in this example are 6440.\n",
    "\n",
    "Find the rank of every hand in your set. What are the total winnings?"
   ]
  },
  {
   "cell_type": "code",
   "execution_count": 1,
   "metadata": {},
   "outputs": [],
   "source": [
    "test_input = \"\"\"\n",
    "32T3K 765\n",
    "T55J5 684\n",
    "KK677 28\n",
    "KTJJT 220\n",
    "QQQJA 483\n",
    "\"\"\""
   ]
  },
  {
   "cell_type": "code",
   "execution_count": 2,
   "metadata": {},
   "outputs": [],
   "source": [
    "from dataclasses import dataclass\n",
    "from __future__ import annotations\n",
    "from enum import Enum\n",
    "\n",
    "\n",
    "class HandType(Enum):\n",
    "    FIVE_OF_A_KIND = \"07\"\n",
    "    FOUR_OF_A_KIND = \"06\"\n",
    "    FULL_HOUSE = \"05\"\n",
    "    THREE_OF_A_KIND = \"04\"\n",
    "    TWO_PAIR = \"03\"\n",
    "    ONE_PAIR = \"02\"\n",
    "    HIGH_CARD = \"01\"\n",
    "\n",
    "\n",
    "CARD_STR_TO_VALUE_MAP: dict[str, str] = {\n",
    "    \"A\": \"14\",\n",
    "    \"K\": \"13\",\n",
    "    \"Q\": \"12\",\n",
    "    \"J\": \"11\",\n",
    "    \"T\": \"10\",\n",
    "    \"9\": \"09\",\n",
    "    \"8\": \"08\",\n",
    "    \"7\": \"07\",\n",
    "    \"6\": \"06\",\n",
    "    \"5\": \"05\",\n",
    "    \"4\": \"04\",\n",
    "    \"3\": \"03\",\n",
    "    \"2\": \"02\",\n",
    "}\n",
    "\n",
    "\n",
    "@dataclass\n",
    "class Hand:\n",
    "    card_value_list: list[str]\n",
    "    bid: int\n",
    "    hand_type: HandType\n",
    "    hand_type_cards: list[str]\n",
    "\n",
    "\n",
    "    @classmethod\n",
    "    def from_str(cls, hand_str: str, j_for_joker: bool = False) -> Hand:\n",
    "        card_str, bid_str = hand_str.strip().split()\n",
    "        card_value_list = [CARD_STR_TO_VALUE_MAP[c] for c in card_str]\n",
    "        if j_for_joker:\n",
    "            card_value_list = [\"01\" if c == \"11\" else c for c in card_value_list]\n",
    "\n",
    "        card_counter: dict[str, int] = {}\n",
    "        for card_value in card_value_list:\n",
    "            if card_value in card_counter:\n",
    "                card_counter[card_value] += 1\n",
    "            else:\n",
    "                card_counter[card_value] = 1\n",
    "\n",
    "        # remove jokers from consideration for types first\n",
    "        n_jokers = card_counter.pop(\"01\", 0)\n",
    "\n",
    "        # create a reverse of count to card values map\n",
    "        count_card_value_map: dict[int, list[str]] = {}\n",
    "        for card_value, card_count in card_counter.items():\n",
    "            if card_count in count_card_value_map:\n",
    "                count_card_value_map[card_count].append(card_value)\n",
    "            else:\n",
    "                count_card_value_map[card_count] = [card_value]\n",
    "\n",
    "        # hand specific cards are at most two values\n",
    "        hand_type_cards = [\"00\", \"00\"]\n",
    "        if 5 in count_card_value_map:\n",
    "            hand_type = HandType.FIVE_OF_A_KIND\n",
    "            hand_type_cards[0] = count_card_value_map[5][0]\n",
    "        elif 4 in count_card_value_map:\n",
    "            hand_type = HandType.FOUR_OF_A_KIND\n",
    "            hand_type_cards[0] = count_card_value_map[4][0]\n",
    "        elif 3 in count_card_value_map:\n",
    "            # check for full house\n",
    "            if 2 in count_card_value_map:\n",
    "                hand_type = HandType.FULL_HOUSE\n",
    "                hand_type_cards[0] = count_card_value_map[3][0]\n",
    "                hand_type_cards[1] = count_card_value_map[2][0]\n",
    "            else:\n",
    "                hand_type = HandType.THREE_OF_A_KIND\n",
    "                hand_type_cards[0] = count_card_value_map[3][0]\n",
    "        elif 2 in count_card_value_map:\n",
    "            # check for two pair\n",
    "            if len(count_card_value_map[2]) == 2:\n",
    "                hand_type = HandType.TWO_PAIR\n",
    "                hand_type_cards[0] = count_card_value_map[2][0]\n",
    "                hand_type_cards[1] = count_card_value_map[2][1]\n",
    "            else:\n",
    "                hand_type = HandType.ONE_PAIR\n",
    "                hand_type_cards[0] = count_card_value_map[2][0]\n",
    "        else:\n",
    "            hand_type = HandType.HIGH_CARD\n",
    "\n",
    "        for _ in range(n_jokers):\n",
    "            # increase hand type for each jokers\n",
    "            if hand_type == HandType.HIGH_CARD:\n",
    "                hand_type =  HandType.ONE_PAIR\n",
    "            elif hand_type == HandType.ONE_PAIR:\n",
    "                hand_type =  HandType.THREE_OF_A_KIND\n",
    "            elif hand_type == HandType.TWO_PAIR:\n",
    "                hand_type =  HandType.FULL_HOUSE\n",
    "            elif hand_type == HandType.THREE_OF_A_KIND:\n",
    "                hand_type =  HandType.FOUR_OF_A_KIND\n",
    "            elif hand_type == HandType.FULL_HOUSE:\n",
    "                hand_type =  HandType.FOUR_OF_A_KIND\n",
    "            elif hand_type == HandType.FOUR_OF_A_KIND:\n",
    "                hand_type =  HandType.FIVE_OF_A_KIND\n",
    "\n",
    "        return cls(\n",
    "            card_value_list=card_value_list,\n",
    "            bid=int(bid_str),\n",
    "            hand_type=hand_type,\n",
    "            hand_type_cards=hand_type_cards,\n",
    "            )\n",
    "\n",
    "    @property\n",
    "    def sort_str(self) -> str:\n",
    "        joined_hand_cards = \"\".join(self.card_value_list)\n",
    "        sort_str = self.hand_type.value + joined_hand_cards\n",
    "        return sort_str\n",
    "\n",
    "\n",
    "\n",
    "@dataclass\n",
    "class CamelGame:\n",
    "    hand_list: list[Hand]\n",
    "\n",
    "    @classmethod\n",
    "    def from_str(cls, input_str: str, j_for_joker: bool = False) -> CamelGame:\n",
    "        hand_list = [Hand.from_str(s, j_for_joker) for s in input_str.strip().split(\"\\n\")]\n",
    "        return cls(hand_list=hand_list)\n",
    "\n",
    "    @property\n",
    "    def total_winnings(self) -> int:\n",
    "        sorted_hands_low_first = sorted(self.hand_list, key=lambda x: int(x.sort_str))\n",
    "        return sum([ (i + 1) * h.bid for i, h in enumerate(sorted_hands_low_first)])\n",
    "\n",
    "\n"
   ]
  },
  {
   "cell_type": "code",
   "execution_count": 3,
   "metadata": {},
   "outputs": [],
   "source": [
    "test_game = CamelGame.from_str(test_input)"
   ]
  },
  {
   "cell_type": "code",
   "execution_count": 4,
   "metadata": {},
   "outputs": [
    {
     "data": {
      "text/plain": [
       "[Hand(card_value_list=['03', '02', '10', '03', '13'], bid=765, hand_type=<HandType.ONE_PAIR: '02'>, hand_type_cards=['03', '00']),\n",
       " Hand(card_value_list=['10', '05', '05', '11', '05'], bid=684, hand_type=<HandType.THREE_OF_A_KIND: '04'>, hand_type_cards=['05', '00']),\n",
       " Hand(card_value_list=['13', '13', '06', '07', '07'], bid=28, hand_type=<HandType.TWO_PAIR: '03'>, hand_type_cards=['13', '07']),\n",
       " Hand(card_value_list=['13', '10', '11', '11', '10'], bid=220, hand_type=<HandType.TWO_PAIR: '03'>, hand_type_cards=['10', '11']),\n",
       " Hand(card_value_list=['12', '12', '12', '11', '14'], bid=483, hand_type=<HandType.THREE_OF_A_KIND: '04'>, hand_type_cards=['12', '00'])]"
      ]
     },
     "execution_count": 4,
     "metadata": {},
     "output_type": "execute_result"
    }
   ],
   "source": [
    "test_game.hand_list"
   ]
  },
  {
   "cell_type": "code",
   "execution_count": 5,
   "metadata": {
    "tags": [
     "parameters"
    ]
   },
   "outputs": [],
   "source": [
    "assert test_game.total_winnings == 6440"
   ]
  },
  {
   "cell_type": "code",
   "execution_count": 6,
   "metadata": {},
   "outputs": [],
   "source": [
    "with open(\"../inputs/day7_input.txt\") as f:\n",
    "    input_str = f.read()"
   ]
  },
  {
   "cell_type": "code",
   "execution_count": 7,
   "metadata": {},
   "outputs": [],
   "source": [
    "camel_game =  CamelGame.from_str(input_str)"
   ]
  },
  {
   "cell_type": "code",
   "execution_count": 8,
   "metadata": {},
   "outputs": [
    {
     "data": {
      "text/plain": [
       "246409899"
      ]
     },
     "execution_count": 8,
     "metadata": {},
     "output_type": "execute_result"
    }
   ],
   "source": [
    "camel_game.total_winnings"
   ]
  },
  {
   "cell_type": "markdown",
   "metadata": {},
   "source": [
    "# Part 2"
   ]
  },
  {
   "cell_type": "markdown",
   "metadata": {},
   "source": [
    "--- Part Two ---\n",
    "To make things a little more interesting, the Elf introduces one additional rule. Now, J cards are jokers - wildcards that can act like whatever card would make the hand the strongest type possible.\n",
    "\n",
    "To balance this, J cards are now the weakest individual cards, weaker even than 2. The other cards stay in the same order: A, K, Q, T, 9, 8, 7, 6, 5, 4, 3, 2, J.\n",
    "\n",
    "J cards can pretend to be whatever card is best for the purpose of determining hand type; for example, QJJQ2 is now considered four of a kind. However, for the purpose of breaking ties between two hands of the same type, J is always treated as J, not the card it's pretending to be: JKKK2 is weaker than QQQQ2 because J is weaker than Q.\n",
    "\n",
    "Now, the above example goes very differently:\n",
    "\n",
    "32T3K 765\n",
    "T55J5 684\n",
    "KK677 28\n",
    "KTJJT 220\n",
    "QQQJA 483\n",
    "\n",
    "32T3K is still the only one pair; it doesn't contain any jokers, so its strength doesn't increase.\n",
    "KK677 is now the only two pair, making it the second-weakest hand.\n",
    "T55J5, KTJJT, and QQQJA are now all four of a kind! T55J5 gets rank 3, QQQJA gets rank 4, and KTJJT gets rank 5.\n",
    "With the new joker rule, the total winnings in this example are 5905.\n",
    "\n",
    "Using the new joker rule, find the rank of every hand in your set. What are the new total winnings?\n",
    "\n"
   ]
  },
  {
   "cell_type": "code",
   "execution_count": 9,
   "metadata": {},
   "outputs": [],
   "source": [
    "test_game_jokers = CamelGame.from_str(test_input, j_for_joker=True)"
   ]
  },
  {
   "cell_type": "code",
   "execution_count": 10,
   "metadata": {},
   "outputs": [],
   "source": [
    "assert test_game_jokers.total_winnings == 5905"
   ]
  },
  {
   "cell_type": "code",
   "execution_count": 11,
   "metadata": {},
   "outputs": [],
   "source": [
    "camel_game_jokers = CamelGame.from_str(input_str, j_for_joker=True)"
   ]
  },
  {
   "cell_type": "code",
   "execution_count": 12,
   "metadata": {},
   "outputs": [
    {
     "data": {
      "text/plain": [
       "244848487"
      ]
     },
     "execution_count": 12,
     "metadata": {},
     "output_type": "execute_result"
    }
   ],
   "source": [
    "camel_game_jokers.total_winnings"
   ]
  }
 ],
 "metadata": {
  "kernelspec": {
   "display_name": "Python 3",
   "language": "python",
   "name": "python3"
  },
  "language_info": {
   "codemirror_mode": {
    "name": "ipython",
    "version": 3
   },
   "file_extension": ".py",
   "mimetype": "text/x-python",
   "name": "python",
   "nbconvert_exporter": "python",
   "pygments_lexer": "ipython3",
   "version": "3.12.1"
  }
 },
 "nbformat": 4,
 "nbformat_minor": 2
}
