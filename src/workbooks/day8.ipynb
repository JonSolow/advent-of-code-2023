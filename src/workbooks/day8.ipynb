{
 "cells": [
  {
   "cell_type": "markdown",
   "metadata": {},
   "source": [
    "--- Day 8: Haunted Wasteland ---\n",
    "\n",
    "You're still riding a camel across Desert Island when you spot a sandstorm quickly approaching. When you turn to warn the Elf, she disappears before your eyes! To be fair, she had just finished warning you about ghosts a few minutes ago.\n",
    "\n",
    "One of the camel's pouches is labeled \"maps\" - sure enough, it's full of documents (your puzzle input) about how to navigate the desert. At least, you're pretty sure that's what they are; one of the documents contains a list of left/right instructions, and the rest of the documents seem to describe some kind of network of labeled nodes.\n",
    "\n",
    "It seems like you're meant to use the left/right instructions to navigate the network. Perhaps if you have the camel follow the same instructions, you can escape the haunted wasteland!\n",
    "\n",
    "After examining the maps for a bit, two nodes stick out: AAA and ZZZ. You feel like AAA is where you are now, and you have to follow the left/right instructions until you reach ZZZ.\n",
    "\n",
    "This format defines each node of the network individually. For example:\n",
    "\n",
    "RL\n",
    "\n",
    "AAA = (BBB, CCC)\n",
    "BBB = (DDD, EEE)\n",
    "CCC = (ZZZ, GGG)\n",
    "DDD = (DDD, DDD)\n",
    "EEE = (EEE, EEE)\n",
    "GGG = (GGG, GGG)\n",
    "ZZZ = (ZZZ, ZZZ)\n",
    "\n",
    "Starting with AAA, you need to look up the next element based on the next left/right instruction in your input. In this example, start with AAA and go right (R) by choosing the right element of AAA, CCC. Then, L means to choose the left element of CCC, ZZZ. By following the left/right instructions, you reach ZZZ in 2 steps.\n",
    "\n",
    "Of course, you might not find ZZZ right away. If you run out of left/right instructions, repeat the whole sequence of instructions as necessary: RL really means RLRLRLRLRLRLRLRL... and so on. For example, here is a situation that takes 6 steps to reach ZZZ:\n",
    "\n",
    "LLR\n",
    "\n",
    "AAA = (BBB, BBB)\n",
    "BBB = (AAA, ZZZ)\n",
    "ZZZ = (ZZZ, ZZZ)\n",
    "\n",
    "Starting at AAA, follow the left/right instructions. How many steps are required to reach ZZZ?"
   ]
  },
  {
   "cell_type": "code",
   "execution_count": 1,
   "metadata": {},
   "outputs": [],
   "source": [
    "from dataclasses import dataclass\n",
    "from __future__ import annotations\n",
    "from math import lcm\n",
    "\n",
    "\n",
    "@dataclass\n",
    "class Maze:\n",
    "    instruction: str\n",
    "    node_map: dict[str, dict[str, str]]\n",
    "\n",
    "    @classmethod\n",
    "    def from_str(cls, input_str: str) -> Maze:\n",
    "        input_lines_list = list(filter(None, input_str.splitlines()))\n",
    "        instruction = input_lines_list.pop(0)\n",
    "        node_map = {}\n",
    "        for input_line in input_lines_list:\n",
    "            node_key, node_left, node_right = input_line.replace(\"=\", \"\").replace(\"(\", \"\").replace(\")\", \"\").replace(\",\", \"\").split()\n",
    "            node_map[node_key] = {\"L\": node_left, \"R\": node_right}\n",
    "\n",
    "        return cls(instruction=instruction, node_map=node_map)\n",
    "\n",
    "    @property\n",
    "    def solution_steps(self) -> int:\n",
    "        return self.calculate_steps(\"AAA\")\n",
    "\n",
    "\n",
    "    @property\n",
    "    def ghost_solution_steps(self) -> int:\n",
    "        # gonna take reddit advice and just use lcm assumption rather than complete solution\n",
    "        ghost_starts = list(filter(lambda x: x[-1] == \"A\", self.node_map.keys()))\n",
    "        return lcm(*[self.calculate_steps(x, ghost_logic=True) for x in ghost_starts])\n",
    "\n",
    "\n",
    "    def calculate_steps(self, starting_node: str, ghost_logic: bool = False) -> int:\n",
    "        step_counter = 0\n",
    "        solved = False\n",
    "        current_node = starting_node\n",
    "        instruction_index = 0\n",
    "\n",
    "        while not solved:\n",
    "            current_node = self.node_map[current_node][self.instruction[instruction_index]]\n",
    "            step_counter += 1\n",
    "            instruction_index += 1\n",
    "            if instruction_index == len(self.instruction):\n",
    "                instruction_index = 0\n",
    "            \n",
    "            if ghost_logic:\n",
    "                solved = current_node[-1] == \"Z\"\n",
    "            else:\n",
    "                solved = current_node == \"ZZZ\"\n",
    "\n",
    "            # protect from infinite loop\n",
    "            if step_counter > 10e10:\n",
    "                return Exception(\"Exceed loop counter limit\")\n",
    "\n",
    "\n",
    "        return step_counter\n"
   ]
  },
  {
   "cell_type": "code",
   "execution_count": 2,
   "metadata": {},
   "outputs": [],
   "source": [
    "test_input = \"\"\"\n",
    "RL\n",
    "\n",
    "AAA = (BBB, CCC)\n",
    "BBB = (DDD, EEE)\n",
    "CCC = (ZZZ, GGG)\n",
    "DDD = (DDD, DDD)\n",
    "EEE = (EEE, EEE)\n",
    "GGG = (GGG, GGG)\n",
    "ZZZ = (ZZZ, ZZZ)\n",
    "\"\"\""
   ]
  },
  {
   "cell_type": "code",
   "execution_count": 3,
   "metadata": {},
   "outputs": [
    {
     "data": {
      "text/plain": [
       "Maze(instruction='RL', node_map={'AAA': {'L': 'BBB', 'R': 'CCC'}, 'BBB': {'L': 'DDD', 'R': 'EEE'}, 'CCC': {'L': 'ZZZ', 'R': 'GGG'}, 'DDD': {'L': 'DDD', 'R': 'DDD'}, 'EEE': {'L': 'EEE', 'R': 'EEE'}, 'GGG': {'L': 'GGG', 'R': 'GGG'}, 'ZZZ': {'L': 'ZZZ', 'R': 'ZZZ'}})"
      ]
     },
     "execution_count": 3,
     "metadata": {},
     "output_type": "execute_result"
    }
   ],
   "source": [
    "test_maze = Maze.from_str(test_input)\n",
    "\n",
    "test_maze"
   ]
  },
  {
   "cell_type": "code",
   "execution_count": 4,
   "metadata": {},
   "outputs": [],
   "source": [
    "assert test_maze.solution_steps == 2"
   ]
  },
  {
   "cell_type": "code",
   "execution_count": 5,
   "metadata": {},
   "outputs": [],
   "source": [
    "test_input_2 = \"\"\"\n",
    "LLR\n",
    "\n",
    "AAA = (BBB, BBB)\n",
    "BBB = (AAA, ZZZ)\n",
    "ZZZ = (ZZZ, ZZZ)\n",
    "\"\"\"\n"
   ]
  },
  {
   "cell_type": "code",
   "execution_count": 6,
   "metadata": {},
   "outputs": [],
   "source": [
    "test_maze_2 = Maze.from_str(test_input_2)\n",
    "assert test_maze_2.solution_steps == 6"
   ]
  },
  {
   "cell_type": "code",
   "execution_count": 7,
   "metadata": {},
   "outputs": [],
   "source": [
    "with open(\"../inputs/day8_input.txt\") as f:\n",
    "    input_str = f.read()"
   ]
  },
  {
   "cell_type": "code",
   "execution_count": 8,
   "metadata": {},
   "outputs": [],
   "source": [
    "maze = Maze.from_str(input_str)"
   ]
  },
  {
   "cell_type": "code",
   "execution_count": 9,
   "metadata": {},
   "outputs": [
    {
     "data": {
      "text/plain": [
       "19783"
      ]
     },
     "execution_count": 9,
     "metadata": {},
     "output_type": "execute_result"
    }
   ],
   "source": [
    "maze.solution_steps"
   ]
  },
  {
   "cell_type": "markdown",
   "metadata": {},
   "source": [
    "# Part 2"
   ]
  },
  {
   "cell_type": "markdown",
   "metadata": {},
   "source": [
    "--- Part Two ---\n",
    "The sandstorm is upon you and you aren't any closer to escaping the wasteland. You had the camel follow the instructions, but you've barely left your starting position. It's going to take significantly more steps to escape!\n",
    "\n",
    "What if the map isn't for people - what if the map is for ghosts? Are ghosts even bound by the laws of spacetime? Only one way to find out.\n",
    "\n",
    "After examining the maps a bit longer, your attention is drawn to a curious fact: the number of nodes with names ending in A is equal to the number ending in Z! If you were a ghost, you'd probably just start at every node that ends with A and follow all of the paths at the same time until they all simultaneously end up at nodes that end with Z.\n",
    "\n",
    "For example:\n",
    "\n",
    "LR\n",
    "\n",
    "11A = (11B, XXX)\n",
    "11B = (XXX, 11Z)\n",
    "11Z = (11B, XXX)\n",
    "22A = (22B, XXX)\n",
    "22B = (22C, 22C)\n",
    "22C = (22Z, 22Z)\n",
    "22Z = (22B, 22B)\n",
    "XXX = (XXX, XXX)\n",
    "\n",
    "Here, there are two starting nodes, 11A and 22A (because they both end with A). As you follow each left/right instruction, use that instruction to simultaneously navigate away from both nodes you're currently on. Repeat this process until all of the nodes you're currently on end with Z. (If only some of the nodes you're on end with Z, they act like any other node and you continue as normal.) In this example, you would proceed as follows:\n",
    "\n",
    "Step 0: You are at 11A and 22A.\n",
    "Step 1: You choose all of the left paths, leading you to 11B and 22B.\n",
    "Step 2: You choose all of the right paths, leading you to 11Z and 22C.\n",
    "Step 3: You choose all of the left paths, leading you to 11B and 22Z.\n",
    "Step 4: You choose all of the right paths, leading you to 11Z and 22B.\n",
    "Step 5: You choose all of the left paths, leading you to 11B and 22C.\n",
    "Step 6: You choose all of the right paths, leading you to 11Z and 22Z.\n",
    "\n",
    "So, in this example, you end up entirely on nodes that end in Z after 6 steps.\n",
    "\n",
    "Simultaneously start on every node that ends with A. How many steps does it take before you're only on nodes that end with Z?"
   ]
  },
  {
   "cell_type": "code",
   "execution_count": 10,
   "metadata": {},
   "outputs": [],
   "source": [
    "test_input_3 = \"\"\"\n",
    "LR\n",
    "\n",
    "11A = (11B, XXX)\n",
    "11B = (XXX, 11Z)\n",
    "11Z = (11B, XXX)\n",
    "22A = (22B, XXX)\n",
    "22B = (22C, 22C)\n",
    "22C = (22Z, 22Z)\n",
    "22Z = (22B, 22B)\n",
    "XXX = (XXX, XXX)\n",
    "\"\"\""
   ]
  },
  {
   "cell_type": "code",
   "execution_count": 11,
   "metadata": {},
   "outputs": [],
   "source": [
    "test_maze_3 = Maze.from_str(test_input_3)\n",
    "\n",
    "assert test_maze_3.ghost_solution_steps == 6"
   ]
  },
  {
   "cell_type": "code",
   "execution_count": 12,
   "metadata": {},
   "outputs": [
    {
     "data": {
      "text/plain": [
       "9177460370549"
      ]
     },
     "execution_count": 12,
     "metadata": {},
     "output_type": "execute_result"
    }
   ],
   "source": [
    "maze.ghost_solution_steps"
   ]
  },
  {
   "cell_type": "code",
   "execution_count": null,
   "metadata": {},
   "outputs": [],
   "source": []
  }
 ],
 "metadata": {
  "kernelspec": {
   "display_name": "Python 3",
   "language": "python",
   "name": "python3"
  },
  "language_info": {
   "codemirror_mode": {
    "name": "ipython",
    "version": 3
   },
   "file_extension": ".py",
   "mimetype": "text/x-python",
   "name": "python",
   "nbconvert_exporter": "python",
   "pygments_lexer": "ipython3",
   "version": "3.12.1"
  }
 },
 "nbformat": 4,
 "nbformat_minor": 2
}
