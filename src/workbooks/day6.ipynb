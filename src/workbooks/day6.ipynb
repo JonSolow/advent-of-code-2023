{
 "cells": [
  {
   "cell_type": "markdown",
   "metadata": {},
   "source": [
    "--- Day 6: Wait For It ---\n",
    "The ferry quickly brings you across Island Island. After asking around, you discover that there is indeed normally a large pile of sand somewhere near here, but you don't see anything besides lots of water and the small island where the ferry has docked.\n",
    "\n",
    "As you try to figure out what to do next, you notice a poster on a wall near the ferry dock. \"Boat races! Open to the public! Grand prize is an all-expenses-paid trip to Desert Island!\" That must be where the sand comes from! Best of all, the boat races are starting in just a few minutes.\n",
    "\n",
    "You manage to sign up as a competitor in the boat races just in time. The organizer explains that it's not really a traditional race - instead, you will get a fixed amount of time during which your boat has to travel as far as it can, and you win if your boat goes the farthest.\n",
    "\n",
    "As part of signing up, you get a sheet of paper (your puzzle input) that lists the time allowed for each race and also the best distance ever recorded in that race. To guarantee you win the grand prize, you need to make sure you go farther in each race than the current record holder.\n",
    "\n",
    "The organizer brings you over to the area where the boat races are held. The boats are much smaller than you expected - they're actually toy boats, each with a big button on top. Holding down the button charges the boat, and releasing the button allows the boat to move. Boats move faster if their button was held longer, but time spent holding the button counts against the total race time. You can only hold the button at the start of the race, and boats don't move until the button is released.\n",
    "\n",
    "For example:\n",
    "\n",
    "Time:      7  15   30\n",
    "Distance:  9  40  200\n",
    "\n",
    "This document describes three races:\n",
    "\n",
    "The first race lasts 7 milliseconds. The record distance in this race is 9 millimeters.\n",
    "\n",
    "The second race lasts 15 milliseconds. The record distance in this race is 40 millimeters.\n",
    "\n",
    "The third race lasts 30 milliseconds. The record distance in this race is 200 millimeters.\n",
    "\n",
    "Your toy boat has a starting speed of zero millimeters per millisecond. For each whole millisecond you spend at the beginning of the race holding down the button, the boat's speed increases by one millimeter per millisecond.\n",
    "\n",
    "So, because the first race lasts 7 milliseconds, you only have a few options:\n",
    "\n",
    "Don't hold the button at all (that is, hold it for 0 milliseconds) at the start of the race. The boat won't move; it will have traveled 0 millimeters by the end of the race.\n",
    "Hold the button for 1 millisecond at the  start of the race. Then, the boat will travel at a speed of 1 millimeter per millisecond for 6 milliseconds, reaching a total distance traveled of 6 millimeters.\n",
    "Hold the button for 2 milliseconds, giving the boat a speed of 2 millimeters per millisecond. It will then get 5 milliseconds to move, reaching a total distance of 10 millimeters.\n",
    "Hold the button for 3 milliseconds. After its remaining 4 milliseconds of travel time, the boat will have gone 12 millimeters.\n",
    "Hold the button for 4 milliseconds. After its remaining 3 milliseconds of travel time, the boat will have gone 12 millimeters.\n",
    "Hold the button for 5 milliseconds, causing the boat to travel a total of 10 millimeters.\n",
    "Hold the button for 6 milliseconds, causing the boat to travel a total of 6 millimeters.\n",
    "Hold the button for 7 milliseconds. That's the entire duration of the race. You never let go of the button. The boat can't move until you let go of the button. Please make sure you let go of the button so the boat gets to move. 0 millimeters.\n",
    "Since the current record for this race is 9 millimeters, there are actually 4 different ways you could win: you could hold the button for 2, 3, 4, or 5 milliseconds at the start of the race.\n",
    "\n",
    "In the second race, you could hold the button for at least 4 milliseconds and at most 11 milliseconds and beat the record, a total of 8 different ways to win.\n",
    "\n",
    "In the third race, you could hold the button for at least 11 milliseconds and no more than 19 milliseconds and still beat the record, a total of 9 ways you could win.\n",
    "\n",
    "To see how much margin of error you have, determine the number of ways you can beat the record in each race; in this example, if you multiply these values together, you get 288 (4 * 8 * 9).\n",
    "\n",
    "Determine the number of ways you could beat the record in each race. What do you get if you multiply these numbers together?"
   ]
  },
  {
   "cell_type": "code",
   "execution_count": 1,
   "metadata": {},
   "outputs": [],
   "source": [
    "test_input = \"\"\"\n",
    "Time:      7  15   30\n",
    "Distance:  9  40  200\n",
    "\"\"\""
   ]
  },
  {
   "cell_type": "code",
   "execution_count": 2,
   "metadata": {},
   "outputs": [],
   "source": [
    "from dataclasses import dataclass\n",
    "from __future__ import annotations\n",
    "\n",
    "\n",
    "\n",
    "@dataclass\n",
    "class BoatRace:\n",
    "    time: int\n",
    "    record_distance: int\n",
    "\n",
    "\n",
    "    def distance_from_time_held(self, time_held: int) -> int:\n",
    "        velocity_mm_per_sec = time_held\n",
    "        time_moving = max(0, self.time - time_held)\n",
    "        return velocity_mm_per_sec * time_moving\n",
    "\n",
    "    @property\n",
    "    def time_held_options(self) -> range:\n",
    "        return range(self.time)\n",
    "    \n",
    "    @property\n",
    "    def winning_times_distance_map(self) -> dict[int, int]:\n",
    "        winning_time_map = {}\n",
    "        for time_held in self.time_held_options:\n",
    "            distance = self.distance_from_time_held(time_held)\n",
    "            if distance > self.record_distance:\n",
    "                winning_time_map[time_held] = distance\n",
    "        return winning_time_map\n",
    "    \n",
    "    @property\n",
    "    def count_winning_options(self) -> int:\n",
    "        return len(self.winning_times_distance_map)\n",
    "\n",
    "\n",
    "\n",
    "@dataclass\n",
    "class BoatRaceGroup:\n",
    "    boatrace_list: list[BoatRace]\n",
    "\n",
    "\n",
    "    @classmethod\n",
    "    def from_str(cls, input_str: str) -> BoatRaceGroup:\n",
    "        time_list = []\n",
    "        record_distance_list = []\n",
    "        for str_line in input_str.strip().split(\"\\n\"):\n",
    "            line_type_str, line_values_str = str_line.split(\":\")\n",
    "            if line_type_str == \"Time\":\n",
    "                time_list = [int(x) for x in line_values_str.split()]\n",
    "            if line_type_str == \"Distance\":\n",
    "                record_distance_list = [int(x) for x in line_values_str.split()]\n",
    "        \n",
    "        # assert that these are no longer empty lists\n",
    "        assert time_list\n",
    "        assert record_distance_list\n",
    "        \n",
    "        boat_race_list = [BoatRace(time=t, record_distance=rd) for (t, rd) in zip(time_list, record_distance_list)]\n",
    "        return cls(boatrace_list=boat_race_list)\n",
    "\n",
    "    @property\n",
    "    def product_race_win_count(self) -> int:\n",
    "        product_out = 1\n",
    "        for b in self.boatrace_list:\n",
    "            product_out *= b.count_winning_options\n",
    "        return product_out\n"
   ]
  },
  {
   "cell_type": "code",
   "execution_count": 3,
   "metadata": {},
   "outputs": [],
   "source": [
    "test_boatraces = BoatRaceGroup.from_str(test_input)"
   ]
  },
  {
   "cell_type": "code",
   "execution_count": 4,
   "metadata": {},
   "outputs": [],
   "source": [
    "assert test_boatraces.product_race_win_count == 288"
   ]
  },
  {
   "cell_type": "code",
   "execution_count": 5,
   "metadata": {},
   "outputs": [],
   "source": [
    "with open(\"../inputs/day6_input.txt\") as f:\n",
    "    input_str = f.read()"
   ]
  },
  {
   "cell_type": "code",
   "execution_count": 6,
   "metadata": {},
   "outputs": [],
   "source": [
    "boatraces = BoatRaceGroup.from_str(input_str)"
   ]
  },
  {
   "cell_type": "code",
   "execution_count": 7,
   "metadata": {},
   "outputs": [
    {
     "data": {
      "text/plain": [
       "6209190"
      ]
     },
     "execution_count": 7,
     "metadata": {},
     "output_type": "execute_result"
    }
   ],
   "source": [
    "boatraces.product_race_win_count"
   ]
  },
  {
   "cell_type": "code",
   "execution_count": null,
   "metadata": {},
   "outputs": [],
   "source": []
  }
 ],
 "metadata": {
  "kernelspec": {
   "display_name": "Python 3",
   "language": "python",
   "name": "python3"
  },
  "language_info": {
   "codemirror_mode": {
    "name": "ipython",
    "version": 3
   },
   "file_extension": ".py",
   "mimetype": "text/x-python",
   "name": "python",
   "nbconvert_exporter": "python",
   "pygments_lexer": "ipython3",
   "version": "3.12.1"
  }
 },
 "nbformat": 4,
 "nbformat_minor": 2
}
