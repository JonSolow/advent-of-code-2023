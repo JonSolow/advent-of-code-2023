{
 "cells": [
  {
   "cell_type": "markdown",
   "metadata": {},
   "source": [
    "--- Day 6: Wait For It ---\n",
    "The ferry quickly brings you across Island Island. After asking around, you discover that there is indeed normally a large pile of sand somewhere near here, but you don't see anything besides lots of water and the small island where the ferry has docked.\n",
    "\n",
    "As you try to figure out what to do next, you notice a poster on a wall near the ferry dock. \"Boat races! Open to the public! Grand prize is an all-expenses-paid trip to Desert Island!\" That must be where the sand comes from! Best of all, the boat races are starting in just a few minutes.\n",
    "\n",
    "You manage to sign up as a competitor in the boat races just in time. The organizer explains that it's not really a traditional race - instead, you will get a fixed amount of time during which your boat has to travel as far as it can, and you win if your boat goes the farthest.\n",
    "\n",
    "As part of signing up, you get a sheet of paper (your puzzle input) that lists the time allowed for each race and also the best distance ever recorded in that race. To guarantee you win the grand prize, you need to make sure you go farther in each race than the current record holder.\n",
    "\n",
    "The organizer brings you over to the area where the boat races are held. The boats are much smaller than you expected - they're actually toy boats, each with a big button on top. Holding down the button charges the boat, and releasing the button allows the boat to move. Boats move faster if their button was held longer, but time spent holding the button counts against the total race time. You can only hold the button at the start of the race, and boats don't move until the button is released.\n",
    "\n",
    "For example:\n",
    "\n",
    "Time:      7  15   30\n",
    "Distance:  9  40  200\n",
    "\n",
    "This document describes three races:\n",
    "\n",
    "The first race lasts 7 milliseconds. The record distance in this race is 9 millimeters.\n",
    "\n",
    "The second race lasts 15 milliseconds. The record distance in this race is 40 millimeters.\n",
    "\n",
    "The third race lasts 30 milliseconds. The record distance in this race is 200 millimeters.\n",
    "\n",
    "Your toy boat has a starting speed of zero millimeters per millisecond. For each whole millisecond you spend at the beginning of the race holding down the button, the boat's speed increases by one millimeter per millisecond.\n",
    "\n",
    "So, because the first race lasts 7 milliseconds, you only have a few options:\n",
    "\n",
    "Don't hold the button at all (that is, hold it for 0 milliseconds) at the start of the race. The boat won't move; it will have traveled 0 millimeters by the end of the race.\n",
    "Hold the button for 1 millisecond at the  start of the race. Then, the boat will travel at a speed of 1 millimeter per millisecond for 6 milliseconds, reaching a total distance traveled of 6 millimeters.\n",
    "Hold the button for 2 milliseconds, giving the boat a speed of 2 millimeters per millisecond. It will then get 5 milliseconds to move, reaching a total distance of 10 millimeters.\n",
    "Hold the button for 3 milliseconds. After its remaining 4 milliseconds of travel time, the boat will have gone 12 millimeters.\n",
    "Hold the button for 4 milliseconds. After its remaining 3 milliseconds of travel time, the boat will have gone 12 millimeters.\n",
    "Hold the button for 5 milliseconds, causing the boat to travel a total of 10 millimeters.\n",
    "Hold the button for 6 milliseconds, causing the boat to travel a total of 6 millimeters.\n",
    "Hold the button for 7 milliseconds. That's the entire duration of the race. You never let go of the button. The boat can't move until you let go of the button. Please make sure you let go of the button so the boat gets to move. 0 millimeters.\n",
    "Since the current record for this race is 9 millimeters, there are actually 4 different ways you could win: you could hold the button for 2, 3, 4, or 5 milliseconds at the start of the race.\n",
    "\n",
    "In the second race, you could hold the button for at least 4 milliseconds and at most 11 milliseconds and beat the record, a total of 8 different ways to win.\n",
    "\n",
    "In the third race, you could hold the button for at least 11 milliseconds and no more than 19 milliseconds and still beat the record, a total of 9 ways you could win.\n",
    "\n",
    "To see how much margin of error you have, determine the number of ways you can beat the record in each race; in this example, if you multiply these values together, you get 288 (4 * 8 * 9).\n",
    "\n",
    "Determine the number of ways you could beat the record in each race. What do you get if you multiply these numbers together?"
   ]
  },
  {
   "cell_type": "code",
   "execution_count": 1,
   "metadata": {},
   "outputs": [],
   "source": [
    "test_input = \"\"\"\n",
    "Time:      7  15   30\n",
    "Distance:  9  40  200\n",
    "\"\"\""
   ]
  },
  {
   "cell_type": "code",
   "execution_count": 2,
   "metadata": {},
   "outputs": [],
   "source": [
    "from dataclasses import dataclass\n",
    "from __future__ import annotations\n",
    "from math import ceil, floor, sqrt\n",
    "\n",
    "\n",
    "@dataclass\n",
    "class BoatRace:\n",
    "    time: int\n",
    "    record_distance: int\n",
    "\n",
    "\n",
    "    def distance_from_time_held(self, time_held: int) -> int:\n",
    "        velocity_mm_per_sec = time_held\n",
    "        time_moving = max(0, self.time - time_held)\n",
    "        return velocity_mm_per_sec * time_moving\n",
    "\n",
    "    @property\n",
    "    def times_exact_record(self) -> list[float]:\n",
    "        # solve quadratic equation for zeroes\n",
    "        # distance = - time_held **2 + race_time * time_held\n",
    "        # diff_from_record =  - time_held **2 + race_time * time_held - record_distance\n",
    "        # x = time_held, \n",
    "        a = -1\n",
    "        b = self.time\n",
    "        c = -self.record_distance\n",
    "        zeros_list = sorted([\n",
    "            (-b - sqrt(b**2 - 4 * a * c)) / (2 * a),\n",
    "            (-b + sqrt(b**2 - 4 * a * c)) / (2 * a),\n",
    "        ])\n",
    "        return sorted(zeros_list)\n",
    "    \n",
    "\n",
    "    @property\n",
    "    def count_winning_options(self) -> int:\n",
    "        # using calculus and algebra (graph of a parabola)\n",
    "        # we know that the winning values are those integers between the two zeros\n",
    "        # limited to not be negative times or greater than total race time\n",
    "        winning_range_start = max(0, 1+floor(self.times_exact_record[0]))\n",
    "        winning_range_end_inclusive = min(self.time, ceil(self.times_exact_record[1])-1)\n",
    "        return winning_range_end_inclusive - winning_range_start + 1\n",
    "\n",
    "\n",
    "\n",
    "\n",
    "@dataclass\n",
    "class BoatRaceGroup:\n",
    "    boatrace_list: list[BoatRace]\n",
    "\n",
    "\n",
    "    @classmethod\n",
    "    def from_str(cls, input_str: str, ignore_spaces: bool = False) -> BoatRaceGroup:\n",
    "        time_list = []\n",
    "        record_distance_list = []\n",
    "        for str_line in input_str.strip().split(\"\\n\"):\n",
    "            line_type_str, line_values_str = str_line.split(\":\")\n",
    "            if line_type_str == \"Time\":\n",
    "                if ignore_spaces:\n",
    "                    time_list = [int(line_values_str.replace(\" \", \"\"))]\n",
    "                else:\n",
    "                    time_list = [int(x) for x in line_values_str.split()]\n",
    "            if line_type_str == \"Distance\":\n",
    "                if ignore_spaces:\n",
    "                    record_distance_list = [int(line_values_str.replace(\" \", \"\"))]\n",
    "                else:\n",
    "                    record_distance_list = [int(x) for x in line_values_str.split()]\n",
    "        \n",
    "        # assert that these are no longer empty lists\n",
    "        assert time_list\n",
    "        assert record_distance_list\n",
    "        \n",
    "        boat_race_list = [BoatRace(time=t, record_distance=rd) for (t, rd) in zip(time_list, record_distance_list)]\n",
    "        return cls(boatrace_list=boat_race_list)\n",
    "\n",
    "\n",
    "    @property\n",
    "    def product_race_win_count(self) -> int:\n",
    "        product_out = 1\n",
    "        for b in self.boatrace_list:\n",
    "            product_out *= b.count_winning_options\n",
    "        return product_out\n"
   ]
  },
  {
   "cell_type": "code",
   "execution_count": 3,
   "metadata": {},
   "outputs": [],
   "source": [
    "test_boatraces = BoatRaceGroup.from_str(test_input)"
   ]
  },
  {
   "cell_type": "code",
   "execution_count": 4,
   "metadata": {},
   "outputs": [
    {
     "data": {
      "text/plain": [
       "[4, 8, 9]"
      ]
     },
     "execution_count": 4,
     "metadata": {},
     "output_type": "execute_result"
    }
   ],
   "source": [
    "\n",
    "[x.count_winning_options for x in test_boatraces.boatrace_list]"
   ]
  },
  {
   "cell_type": "code",
   "execution_count": 5,
   "metadata": {},
   "outputs": [
    {
     "data": {
      "text/plain": [
       "[[1.6972243622680054, 5.302775637731995],\n",
       " [3.4688711258507254, 11.531128874149275],\n",
       " [10.0, 20.0]]"
      ]
     },
     "execution_count": 5,
     "metadata": {},
     "output_type": "execute_result"
    }
   ],
   "source": [
    "[x.times_exact_record for x in test_boatraces.boatrace_list]"
   ]
  },
  {
   "cell_type": "code",
   "execution_count": 6,
   "metadata": {},
   "outputs": [
    {
     "data": {
      "text/plain": [
       "288"
      ]
     },
     "execution_count": 6,
     "metadata": {},
     "output_type": "execute_result"
    }
   ],
   "source": [
    "test_boatraces.product_race_win_count"
   ]
  },
  {
   "cell_type": "code",
   "execution_count": 7,
   "metadata": {},
   "outputs": [],
   "source": [
    "assert test_boatraces.product_race_win_count == 288"
   ]
  },
  {
   "cell_type": "code",
   "execution_count": 8,
   "metadata": {},
   "outputs": [],
   "source": [
    "with open(\"../inputs/day6_input.txt\") as f:\n",
    "    input_str = f.read()"
   ]
  },
  {
   "cell_type": "code",
   "execution_count": 9,
   "metadata": {},
   "outputs": [],
   "source": [
    "boatraces = BoatRaceGroup.from_str(input_str)"
   ]
  },
  {
   "cell_type": "code",
   "execution_count": 10,
   "metadata": {},
   "outputs": [
    {
     "data": {
      "text/plain": [
       "6209190"
      ]
     },
     "execution_count": 10,
     "metadata": {},
     "output_type": "execute_result"
    }
   ],
   "source": [
    "boatraces.product_race_win_count"
   ]
  },
  {
   "cell_type": "markdown",
   "metadata": {},
   "source": [
    "# Part 2"
   ]
  },
  {
   "cell_type": "markdown",
   "metadata": {},
   "source": [
    "--- Part Two ---\n",
    "As the race is about to start, you realize the piece of paper with race times and record distances you got earlier actually just has very bad kerning. There's really only one race - ignore the spaces between the numbers on each line.\n",
    "\n",
    "So, the example from before:\n",
    "\n",
    "Time:      7  15   30\n",
    "Distance:  9  40  200\n",
    "...now instead means this:\n",
    "\n",
    "Time:      71530\n",
    "Distance:  940200\n",
    "Now, you have to figure out how many ways there are to win this single race. In this example, the race lasts for 71530 milliseconds and the record distance you need to beat is 940200 millimeters. You could hold the button anywhere from 14 to 71516 milliseconds and beat the record, a total of 71503 ways!\n",
    "\n",
    "How many ways can you beat the record in this one much longer race?"
   ]
  },
  {
   "cell_type": "code",
   "execution_count": 11,
   "metadata": {},
   "outputs": [],
   "source": [
    "test_boatraces_2 = BoatRaceGroup.from_str(test_input, ignore_spaces=True)\n"
   ]
  },
  {
   "cell_type": "code",
   "execution_count": 12,
   "metadata": {},
   "outputs": [],
   "source": [
    "# can still use the product of count which in this case will trivially take the product of a single race\n",
    "assert test_boatraces_2.product_race_win_count == 71503"
   ]
  },
  {
   "cell_type": "code",
   "execution_count": 13,
   "metadata": {},
   "outputs": [
    {
     "data": {
      "text/plain": [
       "28545089"
      ]
     },
     "execution_count": 13,
     "metadata": {},
     "output_type": "execute_result"
    }
   ],
   "source": [
    "boatraces_2 = BoatRaceGroup.from_str(input_str, ignore_spaces=True)\n",
    "\n",
    "boatraces_2.product_race_win_count"
   ]
  }
 ],
 "metadata": {
  "kernelspec": {
   "display_name": "Python 3",
   "language": "python",
   "name": "python3"
  },
  "language_info": {
   "codemirror_mode": {
    "name": "ipython",
    "version": 3
   },
   "file_extension": ".py",
   "mimetype": "text/x-python",
   "name": "python",
   "nbconvert_exporter": "python",
   "pygments_lexer": "ipython3",
   "version": "3.12.1"
  }
 },
 "nbformat": 4,
 "nbformat_minor": 2
}
